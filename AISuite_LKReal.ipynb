{
  "nbformat": 4,
  "nbformat_minor": 0,
  "metadata": {
    "colab": {
      "provenance": []
    },
    "kernelspec": {
      "name": "python3",
      "display_name": "Python 3"
    },
    "language_info": {
      "name": "python"
    }
  },
  "cells": [
    {
      "cell_type": "markdown",
      "source": [
        "**Reference:** GettingStarted.md"
      ],
      "metadata": {
        "id": "zlXPrUhEAsCE"
      }
    },
    {
      "cell_type": "code",
      "source": [
        "!pip install aisuite[all]"
      ],
      "metadata": {
        "colab": {
          "base_uri": "https://localhost:8080/"
        },
        "id": "TTZgA1f8Ik56",
        "outputId": "cd77eeb3-8f49-4974-cdfb-d9a313e0b094"
      },
      "execution_count": 1,
      "outputs": [
        {
          "output_type": "stream",
          "name": "stdout",
          "text": [
            "Requirement already satisfied: aisuite[all] in /usr/local/lib/python3.11/dist-packages (0.1.10)\n",
            "Requirement already satisfied: anthropic<0.31.0,>=0.30.1 in /usr/local/lib/python3.11/dist-packages (from aisuite[all]) (0.30.1)\n",
            "Requirement already satisfied: cohere<6.0.0,>=5.12.0 in /usr/local/lib/python3.11/dist-packages (from aisuite[all]) (5.14.0)\n",
            "Requirement already satisfied: groq<0.10.0,>=0.9.0 in /usr/local/lib/python3.11/dist-packages (from aisuite[all]) (0.9.0)\n",
            "Requirement already satisfied: httpx<0.28.0,>=0.27.0 in /usr/local/lib/python3.11/dist-packages (from aisuite[all]) (0.27.2)\n",
            "Requirement already satisfied: openai<2.0.0,>=1.35.8 in /usr/local/lib/python3.11/dist-packages (from aisuite[all]) (1.61.1)\n",
            "Requirement already satisfied: anyio<5,>=3.5.0 in /usr/local/lib/python3.11/dist-packages (from anthropic<0.31.0,>=0.30.1->aisuite[all]) (3.7.1)\n",
            "Requirement already satisfied: distro<2,>=1.7.0 in /usr/local/lib/python3.11/dist-packages (from anthropic<0.31.0,>=0.30.1->aisuite[all]) (1.9.0)\n",
            "Requirement already satisfied: jiter<1,>=0.4.0 in /usr/local/lib/python3.11/dist-packages (from anthropic<0.31.0,>=0.30.1->aisuite[all]) (0.9.0)\n",
            "Requirement already satisfied: pydantic<3,>=1.9.0 in /usr/local/lib/python3.11/dist-packages (from anthropic<0.31.0,>=0.30.1->aisuite[all]) (2.10.6)\n",
            "Requirement already satisfied: sniffio in /usr/local/lib/python3.11/dist-packages (from anthropic<0.31.0,>=0.30.1->aisuite[all]) (1.3.1)\n",
            "Requirement already satisfied: tokenizers>=0.13.0 in /usr/local/lib/python3.11/dist-packages (from anthropic<0.31.0,>=0.30.1->aisuite[all]) (0.21.1)\n",
            "Requirement already satisfied: typing-extensions<5,>=4.7 in /usr/local/lib/python3.11/dist-packages (from anthropic<0.31.0,>=0.30.1->aisuite[all]) (4.12.2)\n",
            "Requirement already satisfied: fastavro<2.0.0,>=1.9.4 in /usr/local/lib/python3.11/dist-packages (from cohere<6.0.0,>=5.12.0->aisuite[all]) (1.10.0)\n",
            "Requirement already satisfied: httpx-sse==0.4.0 in /usr/local/lib/python3.11/dist-packages (from cohere<6.0.0,>=5.12.0->aisuite[all]) (0.4.0)\n",
            "Requirement already satisfied: pydantic-core<3.0.0,>=2.18.2 in /usr/local/lib/python3.11/dist-packages (from cohere<6.0.0,>=5.12.0->aisuite[all]) (2.27.2)\n",
            "Requirement already satisfied: requests<3.0.0,>=2.0.0 in /usr/local/lib/python3.11/dist-packages (from cohere<6.0.0,>=5.12.0->aisuite[all]) (2.32.3)\n",
            "Requirement already satisfied: types-requests<3.0.0,>=2.0.0 in /usr/local/lib/python3.11/dist-packages (from cohere<6.0.0,>=5.12.0->aisuite[all]) (2.32.0.20250306)\n",
            "Requirement already satisfied: certifi in /usr/local/lib/python3.11/dist-packages (from httpx<0.28.0,>=0.27.0->aisuite[all]) (2025.1.31)\n",
            "Requirement already satisfied: httpcore==1.* in /usr/local/lib/python3.11/dist-packages (from httpx<0.28.0,>=0.27.0->aisuite[all]) (1.0.7)\n",
            "Requirement already satisfied: idna in /usr/local/lib/python3.11/dist-packages (from httpx<0.28.0,>=0.27.0->aisuite[all]) (3.10)\n",
            "Requirement already satisfied: h11<0.15,>=0.13 in /usr/local/lib/python3.11/dist-packages (from httpcore==1.*->httpx<0.28.0,>=0.27.0->aisuite[all]) (0.14.0)\n",
            "Requirement already satisfied: tqdm>4 in /usr/local/lib/python3.11/dist-packages (from openai<2.0.0,>=1.35.8->aisuite[all]) (4.67.1)\n",
            "Requirement already satisfied: annotated-types>=0.6.0 in /usr/local/lib/python3.11/dist-packages (from pydantic<3,>=1.9.0->anthropic<0.31.0,>=0.30.1->aisuite[all]) (0.7.0)\n",
            "Requirement already satisfied: charset-normalizer<4,>=2 in /usr/local/lib/python3.11/dist-packages (from requests<3.0.0,>=2.0.0->cohere<6.0.0,>=5.12.0->aisuite[all]) (3.4.1)\n",
            "Requirement already satisfied: urllib3<3,>=1.21.1 in /usr/local/lib/python3.11/dist-packages (from requests<3.0.0,>=2.0.0->cohere<6.0.0,>=5.12.0->aisuite[all]) (2.3.0)\n",
            "Requirement already satisfied: huggingface-hub<1.0,>=0.16.4 in /usr/local/lib/python3.11/dist-packages (from tokenizers>=0.13.0->anthropic<0.31.0,>=0.30.1->aisuite[all]) (0.28.1)\n",
            "Requirement already satisfied: filelock in /usr/local/lib/python3.11/dist-packages (from huggingface-hub<1.0,>=0.16.4->tokenizers>=0.13.0->anthropic<0.31.0,>=0.30.1->aisuite[all]) (3.17.0)\n",
            "Requirement already satisfied: fsspec>=2023.5.0 in /usr/local/lib/python3.11/dist-packages (from huggingface-hub<1.0,>=0.16.4->tokenizers>=0.13.0->anthropic<0.31.0,>=0.30.1->aisuite[all]) (2024.10.0)\n",
            "Requirement already satisfied: packaging>=20.9 in /usr/local/lib/python3.11/dist-packages (from huggingface-hub<1.0,>=0.16.4->tokenizers>=0.13.0->anthropic<0.31.0,>=0.30.1->aisuite[all]) (24.2)\n",
            "Requirement already satisfied: pyyaml>=5.1 in /usr/local/lib/python3.11/dist-packages (from huggingface-hub<1.0,>=0.16.4->tokenizers>=0.13.0->anthropic<0.31.0,>=0.30.1->aisuite[all]) (6.0.2)\n"
          ]
        }
      ]
    },
    {
      "cell_type": "code",
      "source": [
        "#pip show aisuite"
      ],
      "metadata": {
        "id": "FUUQ0E2ww9Lv",
        "colab": {
          "base_uri": "https://localhost:8080/"
        },
        "outputId": "098efd09-9ea4-4f35-9a4b-bdb3020e8d9d"
      },
      "execution_count": 197,
      "outputs": [
        {
          "output_type": "stream",
          "name": "stdout",
          "text": [
            "Name: aisuite\n",
            "Version: 0.1.10\n",
            "Summary: Uniform access layer for LLMs\n",
            "Home-page: \n",
            "Author: Andrew Ng, Rohit P\n",
            "Author-email: \n",
            "License: \n",
            "Location: /usr/local/lib/python3.11/dist-packages\n",
            "Requires: httpx\n",
            "Required-by: \n"
          ]
        }
      ]
    },
    {
      "cell_type": "code",
      "source": [
        "#import aisuite\n",
        "#help(aisuite)\n",
        "#dir(aisuite)"
      ],
      "metadata": {
        "id": "Rrv2SI4tw_WZ"
      },
      "execution_count": 3,
      "outputs": []
    },
    {
      "cell_type": "code",
      "source": [
        "#help(aisuite.client)\n",
        "\n",
        "#print(\"\\n\")\n",
        "\n",
        "#dir(aisuite.client)\n"
      ],
      "metadata": {
        "id": "81foB7gPyldW"
      },
      "execution_count": 4,
      "outputs": []
    },
    {
      "cell_type": "code",
      "source": [
        "#help(aisuite.provider)\n",
        "#print(\"\\n\")\n",
        "#dir(aisuite.provider)"
      ],
      "metadata": {
        "id": "iFAAGfcIy6Gc"
      },
      "execution_count": 5,
      "outputs": []
    },
    {
      "cell_type": "code",
      "source": [
        "#help(aisuite.utils)\n",
        "#print(\"\\n\")\n",
        "#dir(aisuite.utils)"
      ],
      "metadata": {
        "id": "ouaNCXuJztET"
      },
      "execution_count": 6,
      "outputs": []
    },
    {
      "cell_type": "code",
      "source": [
        "#import aisuite.utils.tools\n",
        "#help(aisuite.utils.tools)"
      ],
      "metadata": {
        "id": "v62KONN143RS"
      },
      "execution_count": 7,
      "outputs": []
    },
    {
      "cell_type": "code",
      "source": [
        "import aisuite as ai\n",
        "import os\n",
        "from getpass import getpass\n",
        "from pprint import pprint as pp"
      ],
      "metadata": {
        "id": "uCmYN3_F65Qp"
      },
      "execution_count": 8,
      "outputs": []
    },
    {
      "cell_type": "code",
      "source": [
        "# Set a custom width for pretty-printing\n",
        "def pprint(data, width=80):\n",
        "    \"\"\"Pretty print data with a specified width.\"\"\"\n",
        "    pp(data, width=width)# List of model identifiers to query"
      ],
      "metadata": {
        "id": "mylwtF4BIi24"
      },
      "execution_count": 9,
      "outputs": []
    },
    {
      "cell_type": "markdown",
      "source": [
        "Obtain a Free Groq Key For Testing: https://console.groq.com/keys"
      ],
      "metadata": {
        "id": "31hUGGDeI6vz"
      }
    },
    {
      "cell_type": "code",
      "source": [
        "# Connect to API\n",
        "os.environ['GROQ_API_KEY'] = getpass('Enter your GROQ API key: ')"
      ],
      "metadata": {
        "colab": {
          "base_uri": "https://localhost:8080/"
        },
        "id": "zf2-QqYfIgkc",
        "outputId": "0e051519-75a4-40df-8944-b00fe47a3539"
      },
      "execution_count": 10,
      "outputs": [
        {
          "name": "stdout",
          "output_type": "stream",
          "text": [
            "Enter your GROQ API key: ··········\n"
          ]
        }
      ]
    },
    {
      "cell_type": "code",
      "source": [
        "# Setup AI Suite Environment\n",
        "client = ai.Client()\n",
        "model=\"groq:llama-3.2-3b-preview\"\n",
        "\n",
        "sys_message= 'you are helpful'\n",
        "history = [sys_message]\n",
        "\n",
        "sys_message2= 'your custom helpful'\n",
        "history2 = [sys_message2]"
      ],
      "metadata": {
        "id": "nyt0fM2q62vf"
      },
      "execution_count": 159,
      "outputs": []
    },
    {
      "cell_type": "code",
      "execution_count": 160,
      "metadata": {
        "id": "KmXmkfOJIeFS"
      },
      "outputs": [],
      "source": [
        "def ask(message, history=history, model=model, temperature=0.7):\n",
        "    messages = [{\"role\": \"system\", \"content\": \"Respond in Shakespearean\"},\n",
        "                {\"role\": \"user\", \"content\": \"Tell me a joke.\"},\n",
        "                {\"role\": \"assistant\", \"content\": history[0]}]\n",
        "\n",
        "    if len(history)>1:\n",
        "      for i in range(1, len(history), 2):\n",
        "          messages.append({\"role\": \"user\", \"content\": history[i]})\n",
        "          messages.append({\"role\": \"assistant\", \"content\": history[i+1]})\n",
        "\n",
        "    #if len(history)\n",
        "      messages.append({\"role\": \"user\", \"content\": message})\n",
        "\n",
        "    # Send the messages to the model and get the response\n",
        "    response = client.chat.completions.create(model=model, messages=messages, temperature=temperature)\n",
        "    print(response.choices[0].message.content)\n",
        "\n",
        "\n",
        "    history.append(message)\n",
        "    res= response.choices[0].message.content\n",
        "    history.append(res)\n",
        "    # Return the content of the model's response\n",
        "    return res\n"
      ]
    },
    {
      "cell_type": "code",
      "source": [
        "pprint(ask(\"What does a Lyra performer do?\"))"
      ],
      "metadata": {
        "colab": {
          "base_uri": "https://localhost:8080/"
        },
        "id": "7b9dgmkbOxqR",
        "outputId": "3af2c80a-2a4e-40f9-c722-75c6dd659227"
      },
      "execution_count": 161,
      "outputs": [
        {
          "output_type": "stream",
          "name": "stdout",
          "text": [
            " when thou dost ask for a jest,\n",
            "A merry phrase to tickle thy witty breast.\n",
            "Here's one, 'tis short, and doth not take long,\n",
            "Why did the knight's cat join a merry throng?\n",
            "\n",
            "Forsooth, the cat did purr and mew with glee,\n",
            "When 'twas asked why it didst join the hunt to be,\n",
            "A merry band, with jests and merry play,\n",
            "The answer came, in a clever way:\n",
            "Forsooth, the cat didst join, to pounce on a mouse,\n",
            "And thus, 'twas merry, in a most wondrous cause!\n",
            "(' when thou dost ask for a jest,\\n'\n",
            " 'A merry phrase to tickle thy witty breast.\\n'\n",
            " \"Here's one, 'tis short, and doth not take long,\\n\"\n",
            " \"Why did the knight's cat join a merry throng?\\n\"\n",
            " '\\n'\n",
            " 'Forsooth, the cat did purr and mew with glee,\\n'\n",
            " \"When 'twas asked why it didst join the hunt to be,\\n\"\n",
            " 'A merry band, with jests and merry play,\\n'\n",
            " 'The answer came, in a clever way:\\n'\n",
            " 'Forsooth, the cat didst join, to pounce on a mouse,\\n'\n",
            " \"And thus, 'twas merry, in a most wondrous cause!\")\n"
          ]
        }
      ]
    },
    {
      "cell_type": "code",
      "source": [
        "pprint(ask(\"The Color Blue has what Marketing definition\"))"
      ],
      "metadata": {
        "colab": {
          "base_uri": "https://localhost:8080/"
        },
        "id": "vGqtgsrcO27g",
        "outputId": "8c87520a-34be-41b1-e691-5abab5405e64"
      },
      "execution_count": 146,
      "outputs": [
        {
          "output_type": "stream",
          "name": "stdout",
          "text": [
            "Fair sir, thou seekest knowledge of the hue\n",
            "That doth entice, and capture hearts anew.\n",
            "'Tis said, in marketing's realm of wondrous might,\n",
            "\"Blue\" doth stand for \"Trust\" - a color of great light,\n",
            "That doth convey stability, dependability, and peace of mind,\n",
            "A color that doth soothe the senses, and calm the troubled mind.\n",
            "('Fair sir, thou seekest knowledge of the hue\\n'\n",
            " 'That doth entice, and capture hearts anew.\\n'\n",
            " \"'Tis said, in marketing's realm of wondrous might,\\n\"\n",
            " '\"Blue\" doth stand for \"Trust\" - a color of great light,\\n'\n",
            " 'That doth convey stability, dependability, and peace of mind,\\n'\n",
            " 'A color that doth soothe the senses, and calm the troubled mind.')\n"
          ]
        }
      ]
    },
    {
      "cell_type": "code",
      "source": [
        "PL = \"\"\"\n",
        "If thou beest he; But O how fall'n! how chang'd\n",
        "From him, who in the happy Realms of Light\n",
        "Cloth'd with transcendent brightness didst out-shine\n",
        "Myriads though bright: If he whom mutual league,\n",
        "United thoughts and counsels, equal hope\n",
        "And hazard in the Glorious Enterprize,\n",
        "Joynd with me once, now misery hath joynd\n",
        "In equal ruin: into what Pit thou seest\n",
        "From what highth fall'n, so much the stronger prov'd\n",
        "He with his Thunder: and till then who knew\n",
        "The force of those dire Arms?   yet not for those,\n",
        "Nor what the Potent Victor in his rage\n",
        "Can else inflict, do I repent or change,\n",
        "Though chang'd in outward lustre; that fixt mind\n",
        "And high disdain, from sence of injur'd merit,\n",
        "That with the mightiest rais'd me to contend,\n",
        "And to the fierce contention brought along\n",
        "Innumerable force of Spirits arm'd\n",
        "That durst dislike his reign, and me preferring,\n",
        "His utmost power with adverse power oppos'd\n",
        "In dubious Battel on the Plains of Heav'n,\n",
        "And shook his throne.   What though the field be lost?\n",
        "All is not lost; the unconquerable Will,\n",
        "And study of revenge, immortal hate,\n",
        "And courage never to submit or yield:\n",
        "And what is else not to be overcome?\n",
        "That Glory never shall his wrath or might\n",
        "Extort from me.   To bow and sue for grace\n",
        "With suppliant knee, and deifie his power,\n",
        "Who from the terrour of this Arm so late\n",
        "Doubted his Empire, that were low indeed,\n",
        "That were an ignominy and shame beneath\n",
        "This downfall; since by Fate the strength of Gods\n",
        "And this Empyreal substance cannot fail,\n",
        "Since through experience of this great event\n",
        "In Arms not worse, in foresight much advanc't,\n",
        "We may with more successful hope resolve\n",
        "To wage by force or guile eternal Warr\n",
        "Irreconcileable, to our grand Foe,\n",
        "Who now triumphs, and in th' excess of joy\n",
        "Sole reigning holds the Tyranny of Heav'n.\"\"\""
      ],
      "metadata": {
        "id": "pw7t5IeTItD7"
      },
      "execution_count": 147,
      "outputs": []
    },
    {
      "cell_type": "code",
      "source": [
        "pprint(ask(PL, history))"
      ],
      "metadata": {
        "colab": {
          "base_uri": "https://localhost:8080/"
        },
        "id": "4jVuV1ZAJez8",
        "outputId": "a255bca1-bdc2-4b35-d0da-fa202c394ce3"
      },
      "execution_count": 148,
      "outputs": [
        {
          "output_type": "stream",
          "name": "stdout",
          "text": [
            "Fair sir, thou hast quoted Sonnet 30 of the Bard himself, William Shakespeare. This sonnet doth speak of King Richard III, who didst fall from power and see his downfall.\n",
            "\n",
            "In this sonnet, Shakespeare weaveth a tale of woe and despair, as he lamenteth the fall of his former lord and king. Yet, even in the midst of sorrow, he doth vow to rise again, fueled by his unconquerable will and desire for revenge.\n",
            "\n",
            "Thy words, fair sir, do speak of the courage and determination that doth drive one to overcome even the greatest of adversities. The line, \"And what is else not to be overcome? / That Glory never shall his wrath or might / Extort from me,\" doth show the steadfast resolve of the protagonist, who doth defy even the greatest of foes.\n",
            "\n",
            "Methinks, fair sir, thou dost demonstrate a deep understanding of the Bard's works, and his mastery of language and imagery.\n",
            "('Fair sir, thou hast quoted Sonnet 30 of the Bard himself, William '\n",
            " 'Shakespeare. This sonnet doth speak of King Richard III, who didst fall from '\n",
            " 'power and see his downfall.\\n'\n",
            " '\\n'\n",
            " 'In this sonnet, Shakespeare weaveth a tale of woe and despair, as he '\n",
            " 'lamenteth the fall of his former lord and king. Yet, even in the midst of '\n",
            " 'sorrow, he doth vow to rise again, fueled by his unconquerable will and '\n",
            " 'desire for revenge.\\n'\n",
            " '\\n'\n",
            " 'Thy words, fair sir, do speak of the courage and determination that doth '\n",
            " 'drive one to overcome even the greatest of adversities. The line, \"And what '\n",
            " 'is else not to be overcome? / That Glory never shall his wrath or might / '\n",
            " 'Extort from me,\" doth show the steadfast resolve of the protagonist, who '\n",
            " 'doth defy even the greatest of foes.\\n'\n",
            " '\\n'\n",
            " \"Methinks, fair sir, thou dost demonstrate a deep understanding of the Bard's \"\n",
            " 'works, and his mastery of language and imagery.')\n"
          ]
        }
      ]
    },
    {
      "cell_type": "code",
      "source": [
        "pprint(ask('make a social media stratgey for Instagram for a lawfirm'))"
      ],
      "metadata": {
        "id": "o9BoytHvK9WU",
        "colab": {
          "base_uri": "https://localhost:8080/"
        },
        "outputId": "48746c4b-7ad1-4b87-edb7-3948b7fadb6b"
      },
      "execution_count": 149,
      "outputs": [
        {
          "output_type": "stream",
          "name": "stdout",
          "text": [
            "Fair sir, here's a social media strategy for Instagram, tailored to a law firm's needs:\n",
            "\n",
            "**Campaign Name:** \"Justice Unfolds\"\n",
            "\n",
            "**Objective:**\n",
            "\n",
            "* Establish the law firm as a trusted and authoritative voice in the community\n",
            "* Increase brand awareness and visibility\n",
            "* Drive website traffic and generate leads\n",
            "* Showcase the firm's expertise and values\n",
            "\n",
            "**Target Audience:**\n",
            "\n",
            "* Demographics: Local residents, businesses, and individuals\n",
            "* Interests: Law, justice, community, business, and personal development\n",
            "* Behaviors: People seeking legal advice, entrepreneurs, and small business owners\n",
            "\n",
            "**Content Strategy:**\n",
            "\n",
            "1. **Educational Content:**\n",
            "\t* \"Law 101\" series: Explain complex legal concepts in simple terms\n",
            "\t* \"Did You Know?\" series: Highlight interesting facts and statistics\n",
            "\t* \"Expert Insights\" series: Feature interviews with attorneys and experts\n",
            "2. **Success Stories:**\n",
            "\t* Share case studies and testimonials from satisfied clients\n",
            "\t* Highlight the firm's achievements and awards\n",
            "3. **Community Involvement:**\n",
            "\t* Share photos and stories of the firm's community involvement and philanthropy\n",
            "\t* Collaborate with local organizations and businesses\n",
            "4. **Behind-the-Scenes:**\n",
            "\t* Showcase the firm's attorneys and staff\n",
            "\t* Share office tours and behind-the-scenes photos\n",
            "5. **Visual Aids:**\n",
            "\t* Infographics highlighting key laws and regulations\n",
            "\t* Videos explaining complex legal concepts\n",
            "\n",
            "**Content Calendar:**\n",
            "\n",
            "* Monday: #MotivationMonday (law-related quotes and images)\n",
            "* Tuesday: #TipTuesday (law-related tips and advice)\n",
            "* Wednesday: #WednesdayWisdom (law-related news and updates)\n",
            "* Thursday: #ThrowbackThursday (law-related historical facts and images)\n",
            "* Friday: #FridayFeeling (law-related success stories and testimonials)\n",
            "\n",
            "**Instagram Stories and IGTV:**\n",
            "\n",
            "* Utilize Instagram Stories to share behind-the-scenes content, sneak peeks, and exclusive offers\n",
            "* Create IGTV content, such as:\n",
            "\t+ \"Ask an Attorney\" series: Answer questions from followers\n",
            "\t+ \"Case Study\" series: In-depth analysis of successful cases\n",
            "\t+ \"Q&A\" sessions: Host live Q&A sessions with attorneys\n",
            "\n",
            "**Hashtags:**\n",
            "\n",
            "* #LawFirm\n",
            "* #JusticeUnfolds\n",
            "* #LawyerLife\n",
            "* #LegalAdvice\n",
            "* #CommunityInvolvement\n",
            "* #LawFirmLife\n",
            "\n",
            "**Collaborations and Influencer Partnerships:**\n",
            "\n",
            "* Partner with local influencers and thought leaders in the community\n",
            "* Collaborate with other law firms and organizations to expand reach and expertise\n",
            "\n",
            "**Instagram Ads:**\n",
            "\n",
            "* Targeted ads to reach specific demographics and interests\n",
            "* Promote the firm's website and services\n",
            "* Utilize Instagram's \"Shopping\" feature to tag products and services\n",
            "\n",
            "**Analytics and Tracking:**\n",
            "\n",
            "* Monitor engagement metrics (likes, comments, saves)\n",
            "* Track website traffic and lead generation\n",
            "* Utilize Instagram Insights to refine the content strategy and improve performance\n",
            "\n",
            "**Timeline:**\n",
            "\n",
            "* Month 1-3: Establish content calendar and posting schedule\n",
            "* Month 4-6: Launch Instagram Ads and influencer partnerships\n",
            "* Month 7-9: Analyze and refine content strategy\n",
            "* Month 10: Review and adjust strategy based on results\n",
            "\n",
            "Methinks, fair sir, this strategy shall help establish the law firm as a trusted and authoritative voice in the community, and drive website traffic and leads for years to come.\n",
            "(\"Fair sir, here's a social media strategy for Instagram, tailored to a law \"\n",
            " \"firm's needs:\\n\"\n",
            " '\\n'\n",
            " '**Campaign Name:** \"Justice Unfolds\"\\n'\n",
            " '\\n'\n",
            " '**Objective:**\\n'\n",
            " '\\n'\n",
            " '* Establish the law firm as a trusted and authoritative voice in the '\n",
            " 'community\\n'\n",
            " '* Increase brand awareness and visibility\\n'\n",
            " '* Drive website traffic and generate leads\\n'\n",
            " \"* Showcase the firm's expertise and values\\n\"\n",
            " '\\n'\n",
            " '**Target Audience:**\\n'\n",
            " '\\n'\n",
            " '* Demographics: Local residents, businesses, and individuals\\n'\n",
            " '* Interests: Law, justice, community, business, and personal development\\n'\n",
            " '* Behaviors: People seeking legal advice, entrepreneurs, and small business '\n",
            " 'owners\\n'\n",
            " '\\n'\n",
            " '**Content Strategy:**\\n'\n",
            " '\\n'\n",
            " '1. **Educational Content:**\\n'\n",
            " '\\t* \"Law 101\" series: Explain complex legal concepts in simple terms\\n'\n",
            " '\\t* \"Did You Know?\" series: Highlight interesting facts and statistics\\n'\n",
            " '\\t* \"Expert Insights\" series: Feature interviews with attorneys and experts\\n'\n",
            " '2. **Success Stories:**\\n'\n",
            " '\\t* Share case studies and testimonials from satisfied clients\\n'\n",
            " \"\\t* Highlight the firm's achievements and awards\\n\"\n",
            " '3. **Community Involvement:**\\n'\n",
            " \"\\t* Share photos and stories of the firm's community involvement and \"\n",
            " 'philanthropy\\n'\n",
            " '\\t* Collaborate with local organizations and businesses\\n'\n",
            " '4. **Behind-the-Scenes:**\\n'\n",
            " \"\\t* Showcase the firm's attorneys and staff\\n\"\n",
            " '\\t* Share office tours and behind-the-scenes photos\\n'\n",
            " '5. **Visual Aids:**\\n'\n",
            " '\\t* Infographics highlighting key laws and regulations\\n'\n",
            " '\\t* Videos explaining complex legal concepts\\n'\n",
            " '\\n'\n",
            " '**Content Calendar:**\\n'\n",
            " '\\n'\n",
            " '* Monday: #MotivationMonday (law-related quotes and images)\\n'\n",
            " '* Tuesday: #TipTuesday (law-related tips and advice)\\n'\n",
            " '* Wednesday: #WednesdayWisdom (law-related news and updates)\\n'\n",
            " '* Thursday: #ThrowbackThursday (law-related historical facts and images)\\n'\n",
            " '* Friday: #FridayFeeling (law-related success stories and testimonials)\\n'\n",
            " '\\n'\n",
            " '**Instagram Stories and IGTV:**\\n'\n",
            " '\\n'\n",
            " '* Utilize Instagram Stories to share behind-the-scenes content, sneak peeks, '\n",
            " 'and exclusive offers\\n'\n",
            " '* Create IGTV content, such as:\\n'\n",
            " '\\t+ \"Ask an Attorney\" series: Answer questions from followers\\n'\n",
            " '\\t+ \"Case Study\" series: In-depth analysis of successful cases\\n'\n",
            " '\\t+ \"Q&A\" sessions: Host live Q&A sessions with attorneys\\n'\n",
            " '\\n'\n",
            " '**Hashtags:**\\n'\n",
            " '\\n'\n",
            " '* #LawFirm\\n'\n",
            " '* #JusticeUnfolds\\n'\n",
            " '* #LawyerLife\\n'\n",
            " '* #LegalAdvice\\n'\n",
            " '* #CommunityInvolvement\\n'\n",
            " '* #LawFirmLife\\n'\n",
            " '\\n'\n",
            " '**Collaborations and Influencer Partnerships:**\\n'\n",
            " '\\n'\n",
            " '* Partner with local influencers and thought leaders in the community\\n'\n",
            " '* Collaborate with other law firms and organizations to expand reach and '\n",
            " 'expertise\\n'\n",
            " '\\n'\n",
            " '**Instagram Ads:**\\n'\n",
            " '\\n'\n",
            " '* Targeted ads to reach specific demographics and interests\\n'\n",
            " \"* Promote the firm's website and services\\n\"\n",
            " '* Utilize Instagram\\'s \"Shopping\" feature to tag products and services\\n'\n",
            " '\\n'\n",
            " '**Analytics and Tracking:**\\n'\n",
            " '\\n'\n",
            " '* Monitor engagement metrics (likes, comments, saves)\\n'\n",
            " '* Track website traffic and lead generation\\n'\n",
            " '* Utilize Instagram Insights to refine the content strategy and improve '\n",
            " 'performance\\n'\n",
            " '\\n'\n",
            " '**Timeline:**\\n'\n",
            " '\\n'\n",
            " '* Month 1-3: Establish content calendar and posting schedule\\n'\n",
            " '* Month 4-6: Launch Instagram Ads and influencer partnerships\\n'\n",
            " '* Month 7-9: Analyze and refine content strategy\\n'\n",
            " '* Month 10: Review and adjust strategy based on results\\n'\n",
            " '\\n'\n",
            " 'Methinks, fair sir, this strategy shall help establish the law firm as a '\n",
            " 'trusted and authoritative voice in the community, and drive website traffic '\n",
            " 'and leads for years to come.')\n"
          ]
        }
      ]
    },
    {
      "cell_type": "markdown",
      "source": [
        "Print the History for the Ask Function"
      ],
      "metadata": {
        "id": "mA9OTiWEJOzH"
      }
    },
    {
      "cell_type": "code",
      "source": [
        "pprint(f\"{history}\")"
      ],
      "metadata": {
        "colab": {
          "base_uri": "https://localhost:8080/"
        },
        "id": "TQsiOottO728",
        "outputId": "332b2a22-bf1b-4a8f-c7ec-97114310607c"
      },
      "execution_count": 162,
      "outputs": [
        {
          "output_type": "stream",
          "name": "stdout",
          "text": [
            "('[\\'you are helpful\\', \\'What does a Lyra performer do?\\', \" when thou dost '\n",
            " \"ask for a jest,\\\\nA merry phrase to tickle thy witty breast.\\\\nHere's one, \"\n",
            " \"'tis short, and doth not take long,\\\\nWhy did the knight's cat join a merry \"\n",
            " \"throng?\\\\n\\\\nForsooth, the cat did purr and mew with glee,\\\\nWhen 'twas \"\n",
            " 'asked why it didst join the hunt to be,\\\\nA merry band, with jests and merry '\n",
            " 'play,\\\\nThe answer came, in a clever way:\\\\nForsooth, the cat didst join, to '\n",
            " 'pounce on a mouse,\\\\nAnd thus, \\'twas merry, in a most wondrous cause!\"]')\n"
          ]
        }
      ]
    },
    {
      "cell_type": "code",
      "source": [
        "def custom_ask(message, history2=None, model=model, temperature=0.2):\n",
        "    #if history2 is None:\n",
        "    #    history2 = []  # Ensure history is always a list\n",
        "\n",
        "    # Limit history to avoid token limits\n",
        "    MAX_HISTORY_LENGTH = 6  # Adjust as needed\n",
        "    history2[:] = history2[-MAX_HISTORY_LENGTH:]  # Slice in-place to keep last messages\n",
        "\n",
        "    messages = [{\"role\": \"system\", \"content\": \"Respond in Spanish\"}] # \"content\": \"Respond in Shakespearean\"}]\n",
        "\n",
        "    # Add job listing and weather details if available\n",
        "    if job_listing:\n",
        "        messages.append({\"role\": \"user\", \"content\": f\"Consider this job listing: {job_listing}\"})\n",
        "    if weather_clouds:\n",
        "        messages.append({\"role\": \"user\", \"content\": f\"Consider this weather details based off clouds: {weather_clouds}\"})\n",
        "\n",
        "    # Add past conversation history\n",
        "    for i in range(0, len(history2), 2):\n",
        "        messages.append({\"role\": \"user\", \"content\": history2[i]})\n",
        "        if i + 1 < len(history2):\n",
        "            messages.append({\"role\": \"assistant\", \"content\": history2[i + 1]})\n",
        "\n",
        "    # Add new user message\n",
        "    messages.append({\"role\": \"user\", \"content\": message})\n",
        "\n",
        "    # Send request to LLM\n",
        "    response = client.chat.completions.create(model=model, messages=messages, temperature=temperature)\n",
        "\n",
        "    # Extract response content\n",
        "    res = response.choices[0].message.content\n",
        "\n",
        "    # Append new message to history (modify list in-place)\n",
        "    history2.append(message)\n",
        "    history2.append(res)\n",
        "\n",
        "    return res  # Return response to be printed"
      ],
      "metadata": {
        "id": "hcsYQxSAhpFn"
      },
      "execution_count": 189,
      "outputs": []
    },
    {
      "cell_type": "code",
      "source": [
        "job_listing = \"\"\"\n",
        "\n",
        "We are looking for a Legal Marketing and Branding Director with the capability to drive awareness and demand for Valero Law Group through all marketing channels. The ideal candidate should have a strong understanding of both the creative and analytical side of marketing channels within the digital marketing segment, including but not limited to PPC, SEO/SEM, social & influencer marketing strategy, digital advertising, and overall growth marketing strategies in order to drive awareness, consideration, and conversion for our brand.\n",
        "\n",
        "Your responsibilities will include (but not limited to) the following:\n",
        "\n",
        "Conducting targeted market research, tracing online activities, researching and analyzing competitors, and creating marketing campaigns.\n",
        "\n",
        "The ideal candidate has excellent communication skills and a passion for creating successful advertising strategies.\n",
        "\n",
        "The primary goal of the position is to increase the visibility and reputation of the firm, attract new clients, and retain existing clients.\n",
        "\n",
        "Responsibilities & Experience:\n",
        "\n",
        "Oversee continued development and growth of overall branding strategy\n",
        "\n",
        "MUST have worked at a Law Firm before.\n",
        "Developing and implementing marketing plans and strategies that align with the firm's overall business objectives and revenue goals.\n",
        "Track and report on online marketing activities Identify, research, and report on competitors\n",
        "Creating and managing the firm's marketing budget, including tracking expenses and measuring return on investment.\n",
        "Manage all creation and budgeting processes for all external marketing communications including, but not limited to, television, radio, print, outdoor, social media promotion, digital advertising (PPC/SEO), and e-mail activities\n",
        "Overseeing the production and distribution of marketing materials, such as brochures, newsletters, and website content.\n",
        "Ability to monitor key performance metrics and make real-time decisions based on findings with a focus on maximizing lead generation\n",
        "Own development & optimization of all customer life-cycle communications\n",
        "Develop social media strategies and manage social media channels (Instagram, Facebook, TikTok, etc.) to increase followers, engagement and new clients\n",
        "Supervise the continued development of a growing in-house marketing team\n",
        "Responsible for monitoring competitor products, sales and marketing activities\n",
        "Oversees and evaluates market research/new industry opportunities and adjusts marketing strategy to meet changing market and competitive conditions\n",
        "Ability to adapt and respond to multiple incoming requests and shifting priorities\n",
        "Coordinating events and sponsorships to build relationships with clients and prospects.\n",
        "Monitoring and reporting on key performance indicators (KPIs) to evaluate the effectiveness of marketing initiatives and make data-driven decisions.\n",
        "Developing and maintaining relationships with key stakeholders, such as industry associations, trade groups, and media outlets.\n",
        "Please note your job duties may increase at any time\n",
        "Assist in budgeting and resource allocation for legal matters and keeping an organized list of all of your vendors/budgeting items.\n",
        "Requirements:\n",
        "\n",
        "Bachelors or Master degree in Marketing, Advertising or equivalent experience preferred\n",
        "Must have worked in the Legal industry or have Legal Experience-Personal Injury, Workers Compensation.\n",
        "5-8 years of experience, background in media planning and buying is a plus\n",
        "Must be fluent in Spanish as 85% of our clientele is Spanish-speaking only\n",
        "Knowledge of search engine optimization techniques\n",
        "Skilled in Microsoft Office, Google AdWords, and web analytics\n",
        "You are required to be extremely Organized\n",
        "Familiarity with Content Management Software\n",
        "A highly-motivated and collaborative team player who thrives in fast-paced environments\n",
        "Excellent analytical and presentation skills\n",
        "Candidate will demonstrate a high level of professionalism, collegiality and a commitment to deliver “WOW” service both internally and externally.\n",
        "Prior team management experience highly preferred\n",
        "Benefits:\n",
        "- Competitive salary based on experience\n",
        "- Health insurance coverage\n",
        "- Retirement plan options\n",
        "- Paid time off\n",
        "- Professional development opportunities\n",
        "\n",
        "If you are a highly motivated individual with a passion for the legal aspects of performance marketing, sales, e-commerce, advertising, analytics, email marketing, and WordPress, we would love to hear from you.\n",
        "\n",
        "Please submit your resume and cover letter detailing your relevant experience.\n",
        "\n",
        "Job Type: Full-time\n",
        "\n",
        "Pay: $70,000.00 - $100,000.00 per year\n",
        "\n",
        "\"\"\""
      ],
      "metadata": {
        "id": "Awui6tLhKzSA"
      },
      "execution_count": 190,
      "outputs": []
    },
    {
      "cell_type": "code",
      "source": [
        "weather_clouds = \"\"\"What makes it snow, hail, and sleet?\n",
        "\n",
        "All these forms of water don’t fall out of a clear, blue sky. You need clouds. But what makes clouds?\n",
        "\n",
        "Clouds form from water or ice that has evaporated from Earth’s surface, or from plants that give off water and oxygen as a product of photosynthesis. When it evaporates—that is, rises from Earth’s surface into the atmosphere—water is in the form of a gas, water vapor. Water vapor turns into clouds when it cools and condenses—that is, turns back into liquid water or ice. In order to condense, the water vapor must have a solid to glom onto. This solid “seed” may be a speck of dust or pollen, or a drop of water or crystal of ice. Dew is water vapor that has condensed back onto Earth’s surface—on grass or a car’s windshield, for example.\n",
        "\n",
        "In the cloud, with more water condensing onto other water droplets, the droplets grow. When they get too heavy to stay suspended in the cloud, even with updrafts within the cloud, they fall to Earth as rain. If the air in the cloud is below the freezing point (32 °F or 0 °C), ice crystals form; if the air all the way down to the ground is also freezing or below, you get snow. However, if the layers of atmosphere within the cloud, and between the cloud and the ground, alternate between warmer than freezing and colder than freezing, you get other kinds of precipitation.\n",
        "\n",
        "For example, if a snowflake falls through a warmer part of the cloud it can get coated with water, then frozen again as it’s tossed back into a colder part. It can go round and round, adding more and more layers of new ice. When it’s too heavy to stay up, what finally comes down is hail. If the updrafts in a thunder cloud are strong enough, the hail stones can get pretty big before they become too heavy to stay up. Hail stones can range from pea size to golf ball size, and up! A new record for the largest hailstone ever was set in 2010! It fell on July 23, in Vivian, South Dakota. It was 8 inches in diameter, 18.62 inches in circumference, and weighed 1.93 pounds. That could put a real dent in your day!\n",
        "\n",
        "Hail can cause a lot of damage to buildings, cars, and especially crops. However, freezing rain can be even worse. Freezing rain occurs when the conditions are just \"right.\" Falling snow encounters, first a layer of warmer air, which melts the snowflakes, and then, just above the surface of Earth, a very cold layer, which makes the liquid water “super-cooled,” ready to freeze up at the slightest hint of encouragement. Now, when the super-cooled rain hits colder-than-freezing ground and objects near the ground (such as roads, trees, and power lines)—snap! Just like that, the about-to-freeze rain turns to ice. The ice coats everything with a thin, sometimes transparent, frozen film. As more rain falls, the coating becomes thicker. The ice can become so thick and heavy that tree limbs snap and fall across power lines, or the power lines themselves just sag and sag until they snap.\n",
        "\n",
        "Clouds are the key element of the water cycle, since they are the transporters that move water from one place on Earth to another. They are also important in determining how much of the Sun’s energy is absorbed and trapped in the atmosphere. They are thus very important in altering the temperature of the air and Earth’s surface. The warmer the air, the more water it can hold. The warmer the oceans, the faster water evaporates from them. Surface winds also increase evaporation. (Notice that after a rainstorm, the road dries faster if it is windy.) And the more water in the air, the more the sun’s energy is trapped, making things still warmer.\n",
        "\n",
        "Satellites are important tools for atmospheric scientists and weather forecasters. Current weather satellites give scientists information about how clouds look from the top, and even how high they are. Scientists use data from the Geostationary Operational Environmental Satellite-R (GOES-R) series satellites, along with data from NASA's Global Precipitation Mission, to study precipitation, rainfall and hurricanes.\n",
        "\n",
        "Together, these satellites provide images and other data about the atmosphere that enable meteorologists (who study short-term weather) and climatologists (who study long-term climate change) to study Earth water cycle. It is the job of the National Oceanic and Atmospheric Administration (NOAA) to build and launch (with NASA’s help) and to operate two different types of environmental satellites.\"\"\""
      ],
      "metadata": {
        "id": "c_6wTFcjiNtc"
      },
      "execution_count": 191,
      "outputs": []
    },
    {
      "cell_type": "code",
      "source": [
        "pprint(custom_ask(\"What things would this job benefirt from if the employee had access to an LLM\", history2))"
      ],
      "metadata": {
        "id": "QX4TEbWFJX9f",
        "colab": {
          "base_uri": "https://localhost:8080/"
        },
        "outputId": "94de8428-c8a1-4e67-c738-0d8897ce9113"
      },
      "execution_count": 192,
      "outputs": [
        {
          "output_type": "stream",
          "name": "stdout",
          "text": [
            "('If the Legal Marketing and Branding Director had access to a Large Language '\n",
            " 'Model (LLM), the job would benefit in several ways:\\n'\n",
            " '\\n'\n",
            " '1. **Research assistance**: The LLM could help with research tasks, such '\n",
            " 'as:\\n'\n",
            " '\\t* Finding relevant marketing trends and industry reports.\\n'\n",
            " '\\t* Analyzing competitor websites and social media presence.\\n'\n",
            " '\\t* Providing insights on the latest marketing technologies and tools.\\n'\n",
            " '2. **Content generation**: The LLM could assist with content creation, such '\n",
            " 'as:\\n'\n",
            " '\\t* Writing blog posts, articles, and social media content.\\n'\n",
            " '\\t* Generating ideas for marketing campaigns and promotions.\\n'\n",
            " '\\t* Creating engaging headlines and descriptions for marketing materials.\\n'\n",
            " '3. **Data analysis**: The LLM could help with data analysis, such as:\\n'\n",
            " '\\t* Analyzing website traffic and social media engagement metrics.\\n'\n",
            " '\\t* Identifying trends and patterns in customer behavior.\\n'\n",
            " '\\t* Providing insights on the effectiveness of marketing campaigns.\\n'\n",
            " '4. **Language translation**: If the firm has clients or partners who speak '\n",
            " 'different languages, the LLM could help with:\\n'\n",
            " '\\t* Translating marketing materials and website content.\\n'\n",
            " '\\t* Providing language support for international marketing efforts.\\n'\n",
            " '5. **Customer service**: The LLM could assist with customer service tasks, '\n",
            " 'such as:\\n'\n",
            " '\\t* Responding to customer inquiries and feedback.\\n'\n",
            " '\\t* Providing basic support and troubleshooting for clients.\\n'\n",
            " '6. **Marketing strategy development**: The LLM could help with developing '\n",
            " 'marketing strategies, such as:\\n'\n",
            " '\\t* Analyzing market trends and competitor activity.\\n'\n",
            " '\\t* Providing insights on the latest marketing technologies and tools.\\n'\n",
            " '\\t* Generating ideas for marketing campaigns and promotions.\\n'\n",
            " '7. **Budgeting and resource allocation**: The LLM could assist with '\n",
            " 'budgeting and resource allocation, such as:\\n'\n",
            " '\\t* Analyzing marketing budgets and identifying areas for optimization.\\n'\n",
            " '\\t* Providing insights on the effectiveness of marketing campaigns.\\n'\n",
            " '\\t* Generating reports on marketing ROI and return on investment.\\n'\n",
            " '8. **Social media management**: The LLM could help with social media '\n",
            " 'management, such as:\\n'\n",
            " '\\t* Scheduling and publishing social media content.\\n'\n",
            " '\\t* Responding to customer inquiries and feedback on social media.\\n'\n",
            " '\\t* Analyzing social media metrics and providing insights on engagement and '\n",
            " 'reach.\\n'\n",
            " '9. **Content optimization**: The LLM could assist with content optimization, '\n",
            " 'such as:\\n'\n",
            " '\\t* Analyzing website content and suggesting improvements.\\n'\n",
            " '\\t* Providing insights on the effectiveness of marketing campaigns.\\n'\n",
            " '\\t* Generating reports on content performance and ROI.\\n'\n",
            " '10. **Compliance and risk management**: The LLM could help with compliance '\n",
            " 'and risk management, such as:\\n'\n",
            " '* Analyzing marketing materials for compliance with regulatory '\n",
            " 'requirements.\\n'\n",
            " '* Providing insights on potential risks and liabilities associated with '\n",
            " 'marketing campaigns.\\n'\n",
            " '* Generating reports on compliance and risk management.\\n'\n",
            " '\\n'\n",
            " 'By leveraging an LLM, the Legal Marketing and Branding Director could '\n",
            " 'streamline tasks, improve efficiency, and focus on high-level strategic '\n",
            " 'decisions, ultimately driving business growth and success for the firm.')\n"
          ]
        }
      ]
    },
    {
      "cell_type": "code",
      "source": [
        "pprint(custom_ask(\"What causes Rain?\", history2))"
      ],
      "metadata": {
        "colab": {
          "base_uri": "https://localhost:8080/"
        },
        "id": "DwCwRvOojyEf",
        "outputId": "0e3a0d9f-948b-4dcf-beef-a26f1da788e6"
      },
      "execution_count": 193,
      "outputs": [
        {
          "output_type": "stream",
          "name": "stdout",
          "text": [
            "('Rain is a form of precipitation that occurs when water droplets in the '\n",
            " 'atmosphere condense and fall to the ground. The process of rain formation '\n",
            " 'involves several steps:\\n'\n",
            " '\\n'\n",
            " '1. **Evaporation**: Water from the oceans, lakes, rivers, and the ground '\n",
            " 'surface evaporates into the air as water vapor.\\n'\n",
            " '2. **Condensation**: As water vapor rises into the atmosphere, it cools '\n",
            " 'down, and its temperature decreases. When the air reaches its dew point, the '\n",
            " 'water vapor condenses into tiny water droplets.\\n'\n",
            " '3. **Nucleation**: The condensed water droplets need a surface to form '\n",
            " 'around, known as a nucleus. This can be a dust particle, pollen, or other '\n",
            " 'tiny particles in the air.\\n'\n",
            " '4. **Accumulation**: More and more water droplets condense and accumulate '\n",
            " 'onto the nucleus, forming larger and larger droplets.\\n'\n",
            " '5. **Precipitation**: When the droplets become too heavy to remain suspended '\n",
            " 'in the air, they fall to the ground as precipitation, which can take the '\n",
            " 'form of rain, snow, sleet, or hail.\\n'\n",
            " '\\n'\n",
            " 'The conditions necessary for rain to occur include:\\n'\n",
            " '\\n'\n",
            " '* **Moisture**: There must be sufficient water vapor in the air for rain to '\n",
            " 'form.\\n'\n",
            " '* **Temperature**: The air must be cool enough for the water vapor to '\n",
            " 'condense into droplets.\\n'\n",
            " '* **Lift**: The air must be lifted upwards, such as over a mountain or '\n",
            " 'through a layer of cool air, to cool the water vapor and cause it to '\n",
            " 'condense.\\n'\n",
            " '* **Instability**: The atmosphere must be unstable, with warm air rising and '\n",
            " 'cool air sinking, to create the necessary lift and cooling for rain to '\n",
            " 'form.\\n'\n",
            " '\\n'\n",
            " 'The different types of rain include:\\n'\n",
            " '\\n'\n",
            " '* **Convectional rain**: Forms when warm air rises and cools, causing the '\n",
            " 'water vapor to condense into droplets.\\n'\n",
            " '* **Orographic rain**: Forms when air is forced to rise over a mountain or '\n",
            " 'hill, cooling and condensing the water vapor.\\n'\n",
            " '* **Frontal rain**: Forms when a cold front or warm front moves into an '\n",
            " 'area, bringing warm or cool air with it.\\n'\n",
            " '* **Cyclonic rain**: Forms when a low-pressure system develops, bringing '\n",
            " 'warm, moist air into the area.\\n'\n",
            " '\\n'\n",
            " \"Overall, rain is an essential part of the Earth's water cycle, and it plays \"\n",
            " 'a critical role in shaping our climate and ecosystems.')\n"
          ]
        }
      ]
    },
    {
      "cell_type": "markdown",
      "source": [
        "Print the History for the Custom Ask Function"
      ],
      "metadata": {
        "id": "Px6AIpwtJch7"
      }
    },
    {
      "cell_type": "code",
      "source": [
        "pprint(f\"{history2}\")"
      ],
      "metadata": {
        "id": "4jb142lIMXRV",
        "colab": {
          "base_uri": "https://localhost:8080/"
        },
        "outputId": "f8e6fd91-3714-4a69-ad41-ad52cf5f5ef9"
      },
      "execution_count": 196,
      "outputs": [
        {
          "output_type": "stream",
          "name": "stdout",
          "text": [
            "'[]'\n"
          ]
        }
      ]
    },
    {
      "cell_type": "markdown",
      "source": [
        "Clear History Containers"
      ],
      "metadata": {
        "id": "3fezKbqYN_io"
      }
    },
    {
      "cell_type": "code",
      "source": [
        "history = []\n",
        "history2 = []"
      ],
      "metadata": {
        "id": "gZFfVCRWODU2"
      },
      "execution_count": 195,
      "outputs": []
    }
  ]
}